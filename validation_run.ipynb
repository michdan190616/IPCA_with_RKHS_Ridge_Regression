{
 "cells": [
  {
   "cell_type": "code",
   "execution_count": 6,
   "metadata": {},
   "outputs": [
    {
     "data": {
      "text/plain": [
       "<module 'validaton' from '/Users/matteoferrazzi/Documents/GitHub/ml-project-2-ml-project2-mma/validaton.py'>"
      ]
     },
     "execution_count": 6,
     "metadata": {},
     "output_type": "execute_result"
    }
   ],
   "source": [
    "import numpy as np\n",
    "import pandas as pd\n",
    "import matplotlib.pyplot as plt \n",
    "import seaborn as sns\n",
    "import os\n",
    "import importlib\n",
    "import pickle\n",
    "import download_clean_data as dc\n",
    "import ipca\n",
    "import metrics\n",
    "import kernel_regression as kr\n",
    "import validaton as val\n",
    "importlib.reload(dc) \n",
    "importlib.reload(ipca)\n",
    "importlib.reload(metrics)\n",
    "importlib.reload(kr)\n",
    "importlib.reload(val)"
   ]
  },
  {
   "cell_type": "markdown",
   "metadata": {},
   "source": [
    "### Chosing the validation period, downloading data and setting parameters"
   ]
  },
  {
   "cell_type": "code",
   "execution_count": 3,
   "metadata": {},
   "outputs": [],
   "source": [
    "#download and clean data\n",
    "folder_path = \"/Users/matteoferrazzi/Documents/GitHub/ml-project-2-ml-project2-mma/Data/monthly_data\"\n",
    "N = 100\n",
    "start_date = 20000000\n",
    "ending_date = 20060000\n",
    "x, y = dc.download_clean_data(folder_path, start_date, ending_date,N)\n",
    "\n",
    "#parameters\n",
    "k = 5\n",
    "trsh = 5/6\n",
    "gamma_first = ipca.gamma_first(y, x, k)  "
   ]
  },
  {
   "cell_type": "markdown",
   "metadata": {},
   "source": [
    "### Validation of IPCA regularized and saving of the dictionary"
   ]
  },
  {
   "cell_type": "code",
   "execution_count": 4,
   "metadata": {},
   "outputs": [],
   "source": [
    "#parameters for validation\n",
    "max_iter = 100\n",
    "W = np.eye(N)\n",
    "W_list = [W]*(len(x))\n",
    "lambda1_v = list([10, 1, 0.1, 0.01, 0.001, 0.0001, 0.00001, 0.000001])\n",
    "lambda2_v = list([1000, 100, 10, 1, 0.1, 0.01, 0.001, 0.0001])\n",
    "\n",
    "#validation\n",
    "dict_IPCA_reg = val.val_IPCA_reg(y, x, trsh, lambda1_v, lambda2_v, gamma_first, max_iter, W_list)"
   ]
  },
  {
   "cell_type": "code",
   "execution_count": 5,
   "metadata": {},
   "outputs": [],
   "source": [
    "with open('dict_IPCA_reg.pickle', 'wb') as handle:\n",
    "    pickle.dump(dict_IPCA_reg, handle)"
   ]
  },
  {
   "cell_type": "markdown",
   "metadata": {},
   "source": [
    "### Validation of Gaussian kernel regression and saving of the dictionary"
   ]
  },
  {
   "cell_type": "code",
   "execution_count": null,
   "metadata": {},
   "outputs": [],
   "source": [
    "#parameters for validation\n",
    "X = np.array(np.array(x).reshape(len(x)*N,94)) #flatten data, build X\n",
    "_, f_list = ipca.ipca(x, y, gamma_first.copy(), 1)\n",
    "lambda1_v = list([10, 1, 0.1, 0.01, 0.001, 0.0001, 0.00001, 0.000001])\n",
    "lambda2_v = list([1000, 100, 10, 1, 0.1, 0.01, 0.001, 0.0001])\n",
    "l_v = list([5, 10, 20])\n",
    "Omega1_inv=np.eye((len(x))*N)\n",
    "Omega2_inv=np.eye(N)\n",
    "max_iter = 10\n",
    "\n",
    "#validation\n",
    "dict_gaussian = val.val_gaussian(y, x, trsh, lambda1_v, lambda2_v, l_v, N, f_list.copy(), Omega2_inv, max_iter)"
   ]
  },
  {
   "cell_type": "code",
   "execution_count": 8,
   "metadata": {},
   "outputs": [],
   "source": [
    "with open('dict_gaussian.pickle', 'wb') as handle:\n",
    "    pickle.dump(dict_gaussian, handle)"
   ]
  },
  {
   "cell_type": "markdown",
   "metadata": {},
   "source": [
    "### Validation of Rational Quadratic kernel regression and saving of the dictionary"
   ]
  },
  {
   "cell_type": "code",
   "execution_count": null,
   "metadata": {},
   "outputs": [],
   "source": [
    "#parameters for validation\n",
    "X = np.array(np.array(x).reshape(len(x)*N,94)) #flatten data, build X\n",
    "_, f_list = ipca.ipca(x, y, gamma_first.copy(), 1)\n",
    "lambda1_v = list([10, 10, 1, 0.1, 0.01, 0.001, 0.0001, 0.0001])\n",
    "lambda2_v = list([10, 1, 0.1, 0.01, 0.001, 0.0001])\n",
    "l_v = list([5, 10, 20])\n",
    "alphas_v = list([5, 10, 20])\n",
    "Omega1_inv=np.eye((len(x))*N)\n",
    "Omega2_inv=np.eye(N)\n",
    "max_iter = 10\n",
    "\n",
    "#validation\n",
    "dict_rq = val.val_rq(y, x, trsh, lambda1_v, lambda2_v, l_v, alphas_v, N, f_list.copy(), Omega2_inv, max_iter)"
   ]
  },
  {
   "cell_type": "code",
   "execution_count": 6,
   "metadata": {},
   "outputs": [],
   "source": [
    "with open('dict_rq.pickle', 'wb') as handle:\n",
    "    pickle.dump(dict_rq, handle)"
   ]
  }
 ],
 "metadata": {
  "kernelspec": {
   "display_name": "base",
   "language": "python",
   "name": "python3"
  },
  "language_info": {
   "codemirror_mode": {
    "name": "ipython",
    "version": 3
   },
   "file_extension": ".py",
   "mimetype": "text/x-python",
   "name": "python",
   "nbconvert_exporter": "python",
   "pygments_lexer": "ipython3",
   "version": "3.9.13"
  }
 },
 "nbformat": 4,
 "nbformat_minor": 2
}
